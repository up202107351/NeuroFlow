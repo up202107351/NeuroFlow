{
 "cells": [
  {
   "cell_type": "markdown",
   "metadata": {},
   "source": [
    "Classifiers in Real-Time:\n",
    "\n",
    "* Windowing: Use windows of ~1-5 seconds with overlap, not milliseconds.\n",
    "* Artifact Removal: Rely heavily on real-time filtering and thresholding. Applying pre-trained ICA is an option but less robust than offline.\n",
    "* Features: Band power (FFT/Welch) is standard. DWT/WPD is feasible but more costly. Entropy is feasible but potentially slow and needs careful implementation/testing and sufficiently long windows.\n",
    "* Computation: Be mindful of computational load and latency at every step. Choose methods that fit your hardware and latency requirements.\n",
    "* Workflow: Acquire window -> Filter -> Detect Artifacts -> (Optional Apply ICA) -> Extract Features -> Classify.\n",
    "\n",
    "Datasets:\n",
    "\n",
    "* https://zenodo.org/records/8429740#:~:text=,up%2C%20tilts%20down%20and%20tilts\n",
    "* https://zenodo.org/records/10371068#:~:text=The%20dataset%20,roughly%20half%20of\n",
    "* https://physionet.org/content/brain-wearable-monitoring/1.0.0/#files-panel"
   ]
  }
 ],
 "metadata": {
  "language_info": {
   "name": "python"
  }
 },
 "nbformat": 4,
 "nbformat_minor": 2
}
