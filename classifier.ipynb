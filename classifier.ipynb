{
 "cells": [
  {
   "cell_type": "markdown",
   "metadata": {},
   "source": [
    "Classifiers in Real-Time:\n",
    "\n",
    "* Windowing: Use windows of ~1-5 seconds with overlap, not milliseconds.\n",
    "* Artifact Removal: Rely heavily on real-time filtering and thresholding. Applying pre-trained ICA is an option but less robust than offline.\n",
    "* Features: Band power (FFT/Welch) is standard. DWT/WPD is feasible but more costly. Entropy is feasible but potentially slow and needs careful implementation/testing and sufficiently long windows.\n",
    "* Computation: Be mindful of computational load and latency at every step. Choose methods that fit your hardware and latency requirements.\n",
    "* Workflow: Acquire window -> Filter -> Detect Artifacts -> (Optional Apply ICA) -> Extract Features -> Classify.\n",
    "\n",
    "Datasets:\n",
    "\n",
    "* https://www.kaggle.com/datasets/birdy654/eeg-brainwave-dataset-mental-state\n",
    "* https://zenodo.org/records/10371068#:~:text=The%20dataset%20,roughly%20half%20of\n",
    "* https://physionet.org/content/brain-wearable-monitoring/1.0.0/#files-panel\n",
    "\n",
    "Example:\n",
    "The relaxed task had the subjects listening to low-tempo music and sound effects designed to aid in meditation whilst being instructed on relaxing their muscles and resting. For a neutral mental, a similar test was carried out, but with no stimulus at all, this test was carried out prior to any others to prevent lasting effects of a relaxed or concentrative mental state. Finally, for concentration, the subjects were instructed to follow the \"shell game\" in which a ball was hidden under one of three cups, which were then switched, the task was to try and follow which cup hid the ball. "
   ]
  },
  {
   "cell_type": "code",
   "execution_count": null,
   "metadata": {
    "vscode": {
     "languageId": "plaintext"
    }
   },
   "outputs": [],
   "source": []
  }
 ],
 "metadata": {
  "language_info": {
   "name": "python"
  }
 },
 "nbformat": 4,
 "nbformat_minor": 2
}
